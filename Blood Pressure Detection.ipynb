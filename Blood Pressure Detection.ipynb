{
 "cells": [
  {
   "cell_type": "markdown",
   "id": "7b631d77",
   "metadata": {},
   "source": [
    "# BLOOD PRESSURE (RANDOM FOREST)"
   ]
  },
  {
   "cell_type": "markdown",
   "id": "9ba502c3",
   "metadata": {},
   "source": [
    "Reference = https://www.datacamp.com/tutorial/random-forests-classifier-python"
   ]
  },
  {
   "cell_type": "code",
   "execution_count": 1,
   "id": "f160686a",
   "metadata": {},
   "outputs": [
    {
     "data": {
      "text/html": [
       "<div>\n",
       "<style scoped>\n",
       "    .dataframe tbody tr th:only-of-type {\n",
       "        vertical-align: middle;\n",
       "    }\n",
       "\n",
       "    .dataframe tbody tr th {\n",
       "        vertical-align: top;\n",
       "    }\n",
       "\n",
       "    .dataframe thead th {\n",
       "        text-align: right;\n",
       "    }\n",
       "</style>\n",
       "<table border=\"1\" class=\"dataframe\">\n",
       "  <thead>\n",
       "    <tr style=\"text-align: right;\">\n",
       "      <th></th>\n",
       "      <th>Patient_ID</th>\n",
       "      <th>Date</th>\n",
       "      <th>Systolic_BP</th>\n",
       "      <th>Diastolic_BP</th>\n",
       "      <th>Heart_Rate</th>\n",
       "      <th>Age</th>\n",
       "      <th>BMI</th>\n",
       "      <th>Smoking</th>\n",
       "      <th>Physical_Activity</th>\n",
       "    </tr>\n",
       "  </thead>\n",
       "  <tbody>\n",
       "    <tr>\n",
       "      <th>0</th>\n",
       "      <td>1</td>\n",
       "      <td>2024-01-01</td>\n",
       "      <td>167</td>\n",
       "      <td>93</td>\n",
       "      <td>78</td>\n",
       "      <td>50</td>\n",
       "      <td>19.8</td>\n",
       "      <td>No</td>\n",
       "      <td>High</td>\n",
       "    </tr>\n",
       "    <tr>\n",
       "      <th>1</th>\n",
       "      <td>2</td>\n",
       "      <td>2024-01-02</td>\n",
       "      <td>159</td>\n",
       "      <td>85</td>\n",
       "      <td>77</td>\n",
       "      <td>39</td>\n",
       "      <td>24.7</td>\n",
       "      <td>Yes</td>\n",
       "      <td>High</td>\n",
       "    </tr>\n",
       "    <tr>\n",
       "      <th>2</th>\n",
       "      <td>3</td>\n",
       "      <td>2024-01-03</td>\n",
       "      <td>93</td>\n",
       "      <td>86</td>\n",
       "      <td>58</td>\n",
       "      <td>22</td>\n",
       "      <td>26.1</td>\n",
       "      <td>Yes</td>\n",
       "      <td>Medium</td>\n",
       "    </tr>\n",
       "    <tr>\n",
       "      <th>3</th>\n",
       "      <td>4</td>\n",
       "      <td>2024-01-04</td>\n",
       "      <td>108</td>\n",
       "      <td>89</td>\n",
       "      <td>85</td>\n",
       "      <td>43</td>\n",
       "      <td>32.6</td>\n",
       "      <td>Yes</td>\n",
       "      <td>Medium</td>\n",
       "    </tr>\n",
       "    <tr>\n",
       "      <th>4</th>\n",
       "      <td>5</td>\n",
       "      <td>2024-01-05</td>\n",
       "      <td>135</td>\n",
       "      <td>73</td>\n",
       "      <td>72</td>\n",
       "      <td>33</td>\n",
       "      <td>20.8</td>\n",
       "      <td>Yes</td>\n",
       "      <td>High</td>\n",
       "    </tr>\n",
       "  </tbody>\n",
       "</table>\n",
       "</div>"
      ],
      "text/plain": [
       "   Patient_ID        Date  Systolic_BP  Diastolic_BP  Heart_Rate  Age   BMI  \\\n",
       "0           1  2024-01-01          167            93          78   50  19.8   \n",
       "1           2  2024-01-02          159            85          77   39  24.7   \n",
       "2           3  2024-01-03           93            86          58   22  26.1   \n",
       "3           4  2024-01-04          108            89          85   43  32.6   \n",
       "4           5  2024-01-05          135            73          72   33  20.8   \n",
       "\n",
       "  Smoking Physical_Activity  \n",
       "0      No              High  \n",
       "1     Yes              High  \n",
       "2     Yes            Medium  \n",
       "3     Yes            Medium  \n",
       "4     Yes              High  "
      ]
     },
     "execution_count": 1,
     "metadata": {},
     "output_type": "execute_result"
    }
   ],
   "source": [
    "import pandas as pd\n",
    "\n",
    "df = pd.read_csv('blood_pressure_readings.csv')\n",
    "\n",
    "df.head()\n"
   ]
  },
  {
   "cell_type": "code",
   "execution_count": 2,
   "id": "dd0f67ab",
   "metadata": {},
   "outputs": [
    {
     "name": "stdout",
     "output_type": "stream",
     "text": [
      "<class 'pandas.core.frame.DataFrame'>\n",
      "RangeIndex: 100 entries, 0 to 99\n",
      "Data columns (total 9 columns):\n",
      " #   Column             Non-Null Count  Dtype  \n",
      "---  ------             --------------  -----  \n",
      " 0   Patient_ID         100 non-null    int64  \n",
      " 1   Date               100 non-null    object \n",
      " 2   Systolic_BP        100 non-null    int64  \n",
      " 3   Diastolic_BP       100 non-null    int64  \n",
      " 4   Heart_Rate         100 non-null    int64  \n",
      " 5   Age                100 non-null    int64  \n",
      " 6   BMI                100 non-null    float64\n",
      " 7   Smoking            100 non-null    object \n",
      " 8   Physical_Activity  100 non-null    object \n",
      "dtypes: float64(1), int64(5), object(3)\n",
      "memory usage: 7.2+ KB\n"
     ]
    }
   ],
   "source": [
    "df.info()"
   ]
  },
  {
   "cell_type": "code",
   "execution_count": 3,
   "id": "a5838925",
   "metadata": {},
   "outputs": [
    {
     "data": {
      "text/plain": [
       "Physical_Activity\n",
       "High      40\n",
       "Low       33\n",
       "Medium    27\n",
       "Name: count, dtype: int64"
      ]
     },
     "execution_count": 3,
     "metadata": {},
     "output_type": "execute_result"
    }
   ],
   "source": [
    "df['Physical_Activity'].value_counts()"
   ]
  },
  {
   "cell_type": "code",
   "execution_count": 4,
   "id": "e8709830",
   "metadata": {},
   "outputs": [
    {
     "data": {
      "text/plain": [
       "(100, 9)"
      ]
     },
     "execution_count": 4,
     "metadata": {},
     "output_type": "execute_result"
    }
   ],
   "source": [
    "df.shape"
   ]
  },
  {
   "cell_type": "code",
   "execution_count": 5,
   "id": "bd7847d6",
   "metadata": {},
   "outputs": [
    {
     "data": {
      "text/plain": [
       "Patient_ID           0\n",
       "Date                 0\n",
       "Systolic_BP          0\n",
       "Diastolic_BP         0\n",
       "Heart_Rate           0\n",
       "Age                  0\n",
       "BMI                  0\n",
       "Smoking              0\n",
       "Physical_Activity    0\n",
       "dtype: int64"
      ]
     },
     "execution_count": 5,
     "metadata": {},
     "output_type": "execute_result"
    }
   ],
   "source": [
    "df.isna().sum()"
   ]
  },
  {
   "cell_type": "code",
   "execution_count": 6,
   "id": "b85fbe79",
   "metadata": {},
   "outputs": [],
   "source": [
    "df = df.drop(['Date','Smoking','BMI','Patient_ID', 'Age'], axis=1)"
   ]
  },
  {
   "cell_type": "code",
   "execution_count": 7,
   "id": "5058ab23",
   "metadata": {},
   "outputs": [
    {
     "name": "stdout",
     "output_type": "stream",
     "text": [
      "<class 'pandas.core.frame.DataFrame'>\n",
      "RangeIndex: 100 entries, 0 to 99\n",
      "Data columns (total 4 columns):\n",
      " #   Column             Non-Null Count  Dtype \n",
      "---  ------             --------------  ----- \n",
      " 0   Systolic_BP        100 non-null    int64 \n",
      " 1   Diastolic_BP       100 non-null    int64 \n",
      " 2   Heart_Rate         100 non-null    int64 \n",
      " 3   Physical_Activity  100 non-null    object\n",
      "dtypes: int64(3), object(1)\n",
      "memory usage: 3.3+ KB\n"
     ]
    }
   ],
   "source": [
    "df.info()"
   ]
  },
  {
   "cell_type": "code",
   "execution_count": 8,
   "id": "a5dd6fe4",
   "metadata": {},
   "outputs": [
    {
     "data": {
      "text/html": [
       "<div>\n",
       "<style scoped>\n",
       "    .dataframe tbody tr th:only-of-type {\n",
       "        vertical-align: middle;\n",
       "    }\n",
       "\n",
       "    .dataframe tbody tr th {\n",
       "        vertical-align: top;\n",
       "    }\n",
       "\n",
       "    .dataframe thead th {\n",
       "        text-align: right;\n",
       "    }\n",
       "</style>\n",
       "<table border=\"1\" class=\"dataframe\">\n",
       "  <thead>\n",
       "    <tr style=\"text-align: right;\">\n",
       "      <th></th>\n",
       "      <th>Systolic_BP</th>\n",
       "      <th>Diastolic_BP</th>\n",
       "      <th>Heart_Rate</th>\n",
       "      <th>Physical_Activity</th>\n",
       "    </tr>\n",
       "  </thead>\n",
       "  <tbody>\n",
       "    <tr>\n",
       "      <th>0</th>\n",
       "      <td>167</td>\n",
       "      <td>93</td>\n",
       "      <td>78</td>\n",
       "      <td>High</td>\n",
       "    </tr>\n",
       "    <tr>\n",
       "      <th>1</th>\n",
       "      <td>159</td>\n",
       "      <td>85</td>\n",
       "      <td>77</td>\n",
       "      <td>High</td>\n",
       "    </tr>\n",
       "    <tr>\n",
       "      <th>2</th>\n",
       "      <td>93</td>\n",
       "      <td>86</td>\n",
       "      <td>58</td>\n",
       "      <td>Medium</td>\n",
       "    </tr>\n",
       "    <tr>\n",
       "      <th>3</th>\n",
       "      <td>108</td>\n",
       "      <td>89</td>\n",
       "      <td>85</td>\n",
       "      <td>Medium</td>\n",
       "    </tr>\n",
       "    <tr>\n",
       "      <th>4</th>\n",
       "      <td>135</td>\n",
       "      <td>73</td>\n",
       "      <td>72</td>\n",
       "      <td>High</td>\n",
       "    </tr>\n",
       "  </tbody>\n",
       "</table>\n",
       "</div>"
      ],
      "text/plain": [
       "   Systolic_BP  Diastolic_BP  Heart_Rate Physical_Activity\n",
       "0          167            93          78              High\n",
       "1          159            85          77              High\n",
       "2           93            86          58            Medium\n",
       "3          108            89          85            Medium\n",
       "4          135            73          72              High"
      ]
     },
     "execution_count": 8,
     "metadata": {},
     "output_type": "execute_result"
    }
   ],
   "source": [
    "df.head()"
   ]
  },
  {
   "cell_type": "markdown",
   "id": "4be1e719",
   "metadata": {},
   "source": [
    "## Data PreProcessing\n"
   ]
  },
  {
   "cell_type": "markdown",
   "id": "5025fecf",
   "metadata": {},
   "source": [
    "**Summary of Preprocessing Steps**\n",
    "\n",
    "*Drop unnecessary columns.\n",
    "\n",
    "*Encode categorical variables.\n",
    "\n",
    "*Define and create the target variable.\n",
    "\n",
    "*Prepare features and target for modeling.\n",
    "\n",
    "*Split the dataset into training and testing sets.\n",
    "\n",
    "*Normalize/standardize features if needed.\n",
    "\n",
    "*Check and handle missing values."
   ]
  },
  {
   "cell_type": "markdown",
   "id": "26a2bf6f",
   "metadata": {},
   "source": [
    "**When to Use reset_index:**\n",
    "\n",
    "1]After Dropping Rows:\n",
    "If row is dropped  and the index is no longer sequential, resetting the index will reorder it.\n",
    "\n",
    "2]To Clean Up:\n",
    "If the index column is no longer needed and  want to clean, default integer index.\n",
    "\n",
    "3]When Preparing for Modeling:\n",
    "Ensures that the index doesn’t interfere with the model training or data processing.\n",
    "\n",
    "4]When It Might Not Be Necessary:\n",
    "No Index Issues: If no operations is performed that affect the index (like dropping rows) and the index is already clean, it might not be needed.\n",
    "Example Usage:df.reset_index(drop=True, inplace=True)\n",
    "drop=True: Ensures the old index is dropped and not added as a new column.\n",
    "\n",
    "If  changes is made to the DataFrame (like dropping rows) and want a clean index, then using reset_index is a good practice. If not, it’s optional. "
   ]
  },
  {
   "cell_type": "code",
   "execution_count": 9,
   "id": "160f58a9",
   "metadata": {},
   "outputs": [
    {
     "data": {
      "text/html": [
       "<div>\n",
       "<style scoped>\n",
       "    .dataframe tbody tr th:only-of-type {\n",
       "        vertical-align: middle;\n",
       "    }\n",
       "\n",
       "    .dataframe tbody tr th {\n",
       "        vertical-align: top;\n",
       "    }\n",
       "\n",
       "    .dataframe thead th {\n",
       "        text-align: right;\n",
       "    }\n",
       "</style>\n",
       "<table border=\"1\" class=\"dataframe\">\n",
       "  <thead>\n",
       "    <tr style=\"text-align: right;\">\n",
       "      <th></th>\n",
       "      <th>index</th>\n",
       "      <th>Systolic_BP</th>\n",
       "      <th>Diastolic_BP</th>\n",
       "      <th>Heart_Rate</th>\n",
       "      <th>Physical_Activity</th>\n",
       "    </tr>\n",
       "  </thead>\n",
       "  <tbody>\n",
       "    <tr>\n",
       "      <th>0</th>\n",
       "      <td>0</td>\n",
       "      <td>167</td>\n",
       "      <td>93</td>\n",
       "      <td>78</td>\n",
       "      <td>High</td>\n",
       "    </tr>\n",
       "    <tr>\n",
       "      <th>1</th>\n",
       "      <td>1</td>\n",
       "      <td>159</td>\n",
       "      <td>85</td>\n",
       "      <td>77</td>\n",
       "      <td>High</td>\n",
       "    </tr>\n",
       "    <tr>\n",
       "      <th>2</th>\n",
       "      <td>2</td>\n",
       "      <td>93</td>\n",
       "      <td>86</td>\n",
       "      <td>58</td>\n",
       "      <td>Medium</td>\n",
       "    </tr>\n",
       "    <tr>\n",
       "      <th>3</th>\n",
       "      <td>3</td>\n",
       "      <td>108</td>\n",
       "      <td>89</td>\n",
       "      <td>85</td>\n",
       "      <td>Medium</td>\n",
       "    </tr>\n",
       "    <tr>\n",
       "      <th>4</th>\n",
       "      <td>4</td>\n",
       "      <td>135</td>\n",
       "      <td>73</td>\n",
       "      <td>72</td>\n",
       "      <td>High</td>\n",
       "    </tr>\n",
       "  </tbody>\n",
       "</table>\n",
       "</div>"
      ],
      "text/plain": [
       "   index  Systolic_BP  Diastolic_BP  Heart_Rate Physical_Activity\n",
       "0      0          167            93          78              High\n",
       "1      1          159            85          77              High\n",
       "2      2           93            86          58            Medium\n",
       "3      3          108            89          85            Medium\n",
       "4      4          135            73          72              High"
      ]
     },
     "execution_count": 9,
     "metadata": {},
     "output_type": "execute_result"
    }
   ],
   "source": [
    "df.reset_index(inplace=True)\n",
    "df.head()"
   ]
  },
  {
   "cell_type": "markdown",
   "id": "ca73e6ce",
   "metadata": {},
   "source": [
    "#### One Hot Encoding"
   ]
  },
  {
   "cell_type": "markdown",
   "id": "c503d73f",
   "metadata": {},
   "source": [
    "drop_first=True: This parameter reduces redundancy by dropping one category (like \"Low\" in the example), preventing multicollinearity."
   ]
  },
  {
   "cell_type": "code",
   "execution_count": 10,
   "id": "e9f25ec8",
   "metadata": {},
   "outputs": [],
   "source": [
    "df_encoded = pd.get_dummies(df, columns=['Physical_Activity'], drop_first=True)\n"
   ]
  },
  {
   "cell_type": "code",
   "execution_count": 11,
   "id": "e79ba638",
   "metadata": {},
   "outputs": [
    {
     "data": {
      "text/html": [
       "<div>\n",
       "<style scoped>\n",
       "    .dataframe tbody tr th:only-of-type {\n",
       "        vertical-align: middle;\n",
       "    }\n",
       "\n",
       "    .dataframe tbody tr th {\n",
       "        vertical-align: top;\n",
       "    }\n",
       "\n",
       "    .dataframe thead th {\n",
       "        text-align: right;\n",
       "    }\n",
       "</style>\n",
       "<table border=\"1\" class=\"dataframe\">\n",
       "  <thead>\n",
       "    <tr style=\"text-align: right;\">\n",
       "      <th></th>\n",
       "      <th>index</th>\n",
       "      <th>Systolic_BP</th>\n",
       "      <th>Diastolic_BP</th>\n",
       "      <th>Heart_Rate</th>\n",
       "      <th>Physical_Activity</th>\n",
       "    </tr>\n",
       "  </thead>\n",
       "  <tbody>\n",
       "    <tr>\n",
       "      <th>0</th>\n",
       "      <td>0</td>\n",
       "      <td>167</td>\n",
       "      <td>93</td>\n",
       "      <td>78</td>\n",
       "      <td>High</td>\n",
       "    </tr>\n",
       "    <tr>\n",
       "      <th>1</th>\n",
       "      <td>1</td>\n",
       "      <td>159</td>\n",
       "      <td>85</td>\n",
       "      <td>77</td>\n",
       "      <td>High</td>\n",
       "    </tr>\n",
       "    <tr>\n",
       "      <th>2</th>\n",
       "      <td>2</td>\n",
       "      <td>93</td>\n",
       "      <td>86</td>\n",
       "      <td>58</td>\n",
       "      <td>Medium</td>\n",
       "    </tr>\n",
       "    <tr>\n",
       "      <th>3</th>\n",
       "      <td>3</td>\n",
       "      <td>108</td>\n",
       "      <td>89</td>\n",
       "      <td>85</td>\n",
       "      <td>Medium</td>\n",
       "    </tr>\n",
       "    <tr>\n",
       "      <th>4</th>\n",
       "      <td>4</td>\n",
       "      <td>135</td>\n",
       "      <td>73</td>\n",
       "      <td>72</td>\n",
       "      <td>High</td>\n",
       "    </tr>\n",
       "  </tbody>\n",
       "</table>\n",
       "</div>"
      ],
      "text/plain": [
       "   index  Systolic_BP  Diastolic_BP  Heart_Rate Physical_Activity\n",
       "0      0          167            93          78              High\n",
       "1      1          159            85          77              High\n",
       "2      2           93            86          58            Medium\n",
       "3      3          108            89          85            Medium\n",
       "4      4          135            73          72              High"
      ]
     },
     "execution_count": 11,
     "metadata": {},
     "output_type": "execute_result"
    }
   ],
   "source": [
    "df.head()"
   ]
  },
  {
   "cell_type": "markdown",
   "id": "2e641e0a",
   "metadata": {},
   "source": [
    "#### Define Target Variable"
   ]
  },
  {
   "cell_type": "markdown",
   "id": "aafee0a0",
   "metadata": {},
   "source": [
    "I  created a target variable (Health_Status) based on the blood pressure readings to classify them as \"Normal\" or \"Abnormal\" (High/medium)"
   ]
  },
  {
   "cell_type": "code",
   "execution_count": 12,
   "id": "02473366",
   "metadata": {},
   "outputs": [],
   "source": [
    "# df_encoded['Health_Status'] = df_encoded.apply(\n",
    "#     lambda row: 'Normal' if (row['Systolic_BP'] < 120 and row['Diastolic_BP'] < 80) else 'Abnormal', axis=1\n",
    "# )\n",
    "df_encoded['Health_Status'] = df_encoded.apply(\n",
    "    lambda row: 'Normal' if (row['Systolic_BP'] < 120 and row['Diastolic_BP'] < 80) else \n",
    "                'Elevated' if (row['Systolic_BP'] < 130 and row['Diastolic_BP'] < 80) else \n",
    "                'High Blood Pressure Stage 1' if (row['Systolic_BP'] < 140 or row['Diastolic_BP'] < 90) else \n",
    "                'High Blood Pressure Stage 2', axis=1\n",
    ")\n"
   ]
  },
  {
   "cell_type": "code",
   "execution_count": 105,
   "id": "b7b62ad3",
   "metadata": {},
   "outputs": [
    {
     "name": "stdout",
     "output_type": "stream",
     "text": [
      "    index  Systolic_BP  Diastolic_BP  Heart_Rate  Physical_Activity_Low  \\\n",
      "0       0          167            93          78                  False   \n",
      "1       1          159            85          77                  False   \n",
      "2       2           93            86          58                  False   \n",
      "3       3          108            89          85                  False   \n",
      "4       4          135            73          72                  False   \n",
      "..    ...          ...           ...         ...                    ...   \n",
      "95     95          179           105          78                  False   \n",
      "96     96          169            73          81                  False   \n",
      "97     97          126            94          75                  False   \n",
      "98     98          173           100          96                  False   \n",
      "99     99          122            76          68                  False   \n",
      "\n",
      "    Physical_Activity_Medium                Health_Status  \n",
      "0                      False  High Blood Pressure Stage 2  \n",
      "1                      False  High Blood Pressure Stage 1  \n",
      "2                       True  High Blood Pressure Stage 1  \n",
      "3                       True  High Blood Pressure Stage 1  \n",
      "4                      False  High Blood Pressure Stage 1  \n",
      "..                       ...                          ...  \n",
      "95                     False  High Blood Pressure Stage 2  \n",
      "96                     False  High Blood Pressure Stage 1  \n",
      "97                     False  High Blood Pressure Stage 1  \n",
      "98                     False  High Blood Pressure Stage 2  \n",
      "99                     False                     Elevated  \n",
      "\n",
      "[100 rows x 7 columns]\n"
     ]
    }
   ],
   "source": [
    "print(df_encoded)"
   ]
  },
  {
   "cell_type": "code",
   "execution_count": 106,
   "id": "afbbefa0",
   "metadata": {},
   "outputs": [
    {
     "data": {
      "text/html": [
       "<div>\n",
       "<style scoped>\n",
       "    .dataframe tbody tr th:only-of-type {\n",
       "        vertical-align: middle;\n",
       "    }\n",
       "\n",
       "    .dataframe tbody tr th {\n",
       "        vertical-align: top;\n",
       "    }\n",
       "\n",
       "    .dataframe thead th {\n",
       "        text-align: right;\n",
       "    }\n",
       "</style>\n",
       "<table border=\"1\" class=\"dataframe\">\n",
       "  <thead>\n",
       "    <tr style=\"text-align: right;\">\n",
       "      <th></th>\n",
       "      <th>index</th>\n",
       "      <th>Systolic_BP</th>\n",
       "      <th>Diastolic_BP</th>\n",
       "      <th>Heart_Rate</th>\n",
       "      <th>Physical_Activity</th>\n",
       "    </tr>\n",
       "  </thead>\n",
       "  <tbody>\n",
       "    <tr>\n",
       "      <th>0</th>\n",
       "      <td>0</td>\n",
       "      <td>167</td>\n",
       "      <td>93</td>\n",
       "      <td>78</td>\n",
       "      <td>High</td>\n",
       "    </tr>\n",
       "    <tr>\n",
       "      <th>1</th>\n",
       "      <td>1</td>\n",
       "      <td>159</td>\n",
       "      <td>85</td>\n",
       "      <td>77</td>\n",
       "      <td>High</td>\n",
       "    </tr>\n",
       "    <tr>\n",
       "      <th>2</th>\n",
       "      <td>2</td>\n",
       "      <td>93</td>\n",
       "      <td>86</td>\n",
       "      <td>58</td>\n",
       "      <td>Medium</td>\n",
       "    </tr>\n",
       "    <tr>\n",
       "      <th>3</th>\n",
       "      <td>3</td>\n",
       "      <td>108</td>\n",
       "      <td>89</td>\n",
       "      <td>85</td>\n",
       "      <td>Medium</td>\n",
       "    </tr>\n",
       "    <tr>\n",
       "      <th>4</th>\n",
       "      <td>4</td>\n",
       "      <td>135</td>\n",
       "      <td>73</td>\n",
       "      <td>72</td>\n",
       "      <td>High</td>\n",
       "    </tr>\n",
       "  </tbody>\n",
       "</table>\n",
       "</div>"
      ],
      "text/plain": [
       "   index  Systolic_BP  Diastolic_BP  Heart_Rate Physical_Activity\n",
       "0      0          167            93          78              High\n",
       "1      1          159            85          77              High\n",
       "2      2           93            86          58            Medium\n",
       "3      3          108            89          85            Medium\n",
       "4      4          135            73          72              High"
      ]
     },
     "execution_count": 106,
     "metadata": {},
     "output_type": "execute_result"
    }
   ],
   "source": [
    "df.head()"
   ]
  },
  {
   "cell_type": "markdown",
   "id": "8e5a8ecc",
   "metadata": {},
   "source": [
    "#### Separate Features and Target\n",
    "\n",
    "Next, separate the features (input variables) from the target variable (Health_Status)."
   ]
  },
  {
   "cell_type": "code",
   "execution_count": 107,
   "id": "612cb633",
   "metadata": {},
   "outputs": [],
   "source": [
    "X = df_encoded.drop(['Health_Status'], axis=1)  # Features\n",
    "y = df_encoded['Health_Status']  # Target\n"
   ]
  },
  {
   "cell_type": "markdown",
   "id": "d924ea5a",
   "metadata": {},
   "source": [
    "When we prepare the data for training a machine learning model, we need to separate the features (input variables) from the target variable (the outcome to be predicted).\n",
    "\n",
    "\n",
    "Why Drop the Target Column (Health_Status)?\n",
    "Features (X): These are the input variables that  model will use to make predictions. In this case, these include Systolic_BP, Diastolic_BP, Heart_Rate, and the encoded Physical_Activity columns.\n",
    "\n",
    "Target (y): This is the outcome or label that  model will learn to predict, which in this case is Health_Status.\n",
    "\n",
    "Reason for Dropping the Target Column (Health_Status):\n",
    "When we prepare the X (features) DataFrame, we drop Health_Status because model need not learn from the target itself (which would be cheating). The model should only use the features to learn how to predict the target."
   ]
  },
  {
   "cell_type": "code",
   "execution_count": 108,
   "id": "9c8218f1",
   "metadata": {},
   "outputs": [
    {
     "data": {
      "text/html": [
       "<div>\n",
       "<style scoped>\n",
       "    .dataframe tbody tr th:only-of-type {\n",
       "        vertical-align: middle;\n",
       "    }\n",
       "\n",
       "    .dataframe tbody tr th {\n",
       "        vertical-align: top;\n",
       "    }\n",
       "\n",
       "    .dataframe thead th {\n",
       "        text-align: right;\n",
       "    }\n",
       "</style>\n",
       "<table border=\"1\" class=\"dataframe\">\n",
       "  <thead>\n",
       "    <tr style=\"text-align: right;\">\n",
       "      <th></th>\n",
       "      <th>index</th>\n",
       "      <th>Systolic_BP</th>\n",
       "      <th>Diastolic_BP</th>\n",
       "      <th>Heart_Rate</th>\n",
       "      <th>Physical_Activity</th>\n",
       "    </tr>\n",
       "  </thead>\n",
       "  <tbody>\n",
       "    <tr>\n",
       "      <th>0</th>\n",
       "      <td>0</td>\n",
       "      <td>167</td>\n",
       "      <td>93</td>\n",
       "      <td>78</td>\n",
       "      <td>High</td>\n",
       "    </tr>\n",
       "    <tr>\n",
       "      <th>1</th>\n",
       "      <td>1</td>\n",
       "      <td>159</td>\n",
       "      <td>85</td>\n",
       "      <td>77</td>\n",
       "      <td>High</td>\n",
       "    </tr>\n",
       "    <tr>\n",
       "      <th>2</th>\n",
       "      <td>2</td>\n",
       "      <td>93</td>\n",
       "      <td>86</td>\n",
       "      <td>58</td>\n",
       "      <td>Medium</td>\n",
       "    </tr>\n",
       "    <tr>\n",
       "      <th>3</th>\n",
       "      <td>3</td>\n",
       "      <td>108</td>\n",
       "      <td>89</td>\n",
       "      <td>85</td>\n",
       "      <td>Medium</td>\n",
       "    </tr>\n",
       "    <tr>\n",
       "      <th>4</th>\n",
       "      <td>4</td>\n",
       "      <td>135</td>\n",
       "      <td>73</td>\n",
       "      <td>72</td>\n",
       "      <td>High</td>\n",
       "    </tr>\n",
       "  </tbody>\n",
       "</table>\n",
       "</div>"
      ],
      "text/plain": [
       "   index  Systolic_BP  Diastolic_BP  Heart_Rate Physical_Activity\n",
       "0      0          167            93          78              High\n",
       "1      1          159            85          77              High\n",
       "2      2           93            86          58            Medium\n",
       "3      3          108            89          85            Medium\n",
       "4      4          135            73          72              High"
      ]
     },
     "execution_count": 108,
     "metadata": {},
     "output_type": "execute_result"
    }
   ],
   "source": [
    "df.head()"
   ]
  },
  {
   "cell_type": "markdown",
   "id": "3b357952",
   "metadata": {},
   "source": [
    "####  Split Data into Training and Testing Sets\n",
    "\n",
    "Split the data into training and testing sets to evaluate the model's performance:"
   ]
  },
  {
   "cell_type": "code",
   "execution_count": 109,
   "id": "5d61cb12",
   "metadata": {},
   "outputs": [],
   "source": [
    "from sklearn.model_selection import train_test_split\n",
    "\n",
    "X_train, X_test, y_train, y_test = train_test_split(X, y, test_size=0.2, random_state=42)"
   ]
  },
  {
   "cell_type": "code",
   "execution_count": 110,
   "id": "9329f4e6",
   "metadata": {},
   "outputs": [
    {
     "name": "stdout",
     "output_type": "stream",
     "text": [
      "Total number of training samples: 80\n",
      "Total number of testing samples: 20\n"
     ]
    }
   ],
   "source": [
    "print(\"Total number of training samples:\", len(X_train))\n",
    "print(\"Total number of testing samples:\", len(X_test))"
   ]
  },
  {
   "cell_type": "code",
   "execution_count": 111,
   "id": "1c73dd12",
   "metadata": {},
   "outputs": [
    {
     "name": "stdout",
     "output_type": "stream",
     "text": [
      "Label Distribution:\n",
      " Health_Status\n",
      "High Blood Pressure Stage 1    54\n",
      "High Blood Pressure Stage 2    15\n",
      "Abnormal                        8\n",
      "Elevated                        3\n",
      "Name: count, dtype: int64\n"
     ]
    },
    {
     "data": {
      "image/png": "[encoded data removed]",
      "text/plain": [
       "<Figure size 640x480 with 1 Axes>"
      ]
     },
     "metadata": {},
     "output_type": "display_data"
    }
   ],
   "source": [
    "# inspect distribution of labels\n",
    "import pandas as pd\n",
    "\n",
    "# Assuming you have your training data in a DataFrame 'train_data'\n",
    "# and labels in 'y_train'\n",
    "\n",
    "# Check the distribution of labels\n",
    "label_counts = y_train.value_counts()\n",
    "print(\"Label Distribution:\\n\", label_counts)\n",
    "\n",
    "# Plot the distribution if needed\n",
    "import matplotlib.pyplot as plt\n",
    "\n",
    "label_counts.plot(kind='bar')\n",
    "plt.title('Distribution of Labels')\n",
    "plt.xlabel('Health Status')\n",
    "plt.ylabel('Count')\n",
    "plt.show()\n"
   ]
  },
  {
   "cell_type": "markdown",
   "id": "c07d6635",
   "metadata": {},
   "source": [
    "#### Train the Random Forest Model\n",
    "\n",
    "Now, training the Random Forest model on the training data:"
   ]
  },
  {
   "cell_type": "code",
   "execution_count": 112,
   "id": "eb7eee42",
   "metadata": {},
   "outputs": [
    {
     "data": {
      "text/html": [
       "<style>#sk-container-id-8 {color: black;}#sk-container-id-8 pre{padding: 0;}#sk-container-id-8 div.sk-toggleable {background-color: white;}#sk-container-id-8 label.sk-toggleable__label {cursor: pointer;display: block;width: 100%;margin-bottom: 0;padding: 0.3em;box-sizing: border-box;text-align: center;}#sk-container-id-8 label.sk-toggleable__label-arrow:before {content: \"▸\";float: left;margin-right: 0.25em;color: #696969;}#sk-container-id-8 label.sk-toggleable__label-arrow:hover:before {color: black;}#sk-container-id-8 div.sk-estimator:hover label.sk-toggleable__label-arrow:before {color: black;}#sk-container-id-8 div.sk-toggleable__content {max-height: 0;max-width: 0;overflow: hidden;text-align: left;background-color: #f0f8ff;}#sk-container-id-8 div.sk-toggleable__content pre {margin: 0.2em;color: black;border-radius: 0.25em;background-color: #f0f8ff;}#sk-container-id-8 input.sk-toggleable__control:checked~div.sk-toggleable__content {max-height: 200px;max-width: 100%;overflow: auto;}#sk-container-id-8 input.sk-toggleable__control:checked~label.sk-toggleable__label-arrow:before {content: \"▾\";}#sk-container-id-8 div.sk-estimator input.sk-toggleable__control:checked~label.sk-toggleable__label {background-color: #d4ebff;}#sk-container-id-8 div.sk-label input.sk-toggleable__control:checked~label.sk-toggleable__label {background-color: #d4ebff;}#sk-container-id-8 input.sk-hidden--visually {border: 0;clip: rect(1px 1px 1px 1px);clip: rect(1px, 1px, 1px, 1px);height: 1px;margin: -1px;overflow: hidden;padding: 0;position: absolute;width: 1px;}#sk-container-id-8 div.sk-estimator {font-family: monospace;background-color: #f0f8ff;border: 1px dotted black;border-radius: 0.25em;box-sizing: border-box;margin-bottom: 0.5em;}#sk-container-id-8 div.sk-estimator:hover {background-color: #d4ebff;}#sk-container-id-8 div.sk-parallel-item::after {content: \"\";width: 100%;border-bottom: 1px solid gray;flex-grow: 1;}#sk-container-id-8 div.sk-label:hover label.sk-toggleable__label {background-color: #d4ebff;}#sk-container-id-8 div.sk-serial::before {content: \"\";position: absolute;border-left: 1px solid gray;box-sizing: border-box;top: 0;bottom: 0;left: 50%;z-index: 0;}#sk-container-id-8 div.sk-serial {display: flex;flex-direction: column;align-items: center;background-color: white;padding-right: 0.2em;padding-left: 0.2em;position: relative;}#sk-container-id-8 div.sk-item {position: relative;z-index: 1;}#sk-container-id-8 div.sk-parallel {display: flex;align-items: stretch;justify-content: center;background-color: white;position: relative;}#sk-container-id-8 div.sk-item::before, #sk-container-id-8 div.sk-parallel-item::before {content: \"\";position: absolute;border-left: 1px solid gray;box-sizing: border-box;top: 0;bottom: 0;left: 50%;z-index: -1;}#sk-container-id-8 div.sk-parallel-item {display: flex;flex-direction: column;z-index: 1;position: relative;background-color: white;}#sk-container-id-8 div.sk-parallel-item:first-child::after {align-self: flex-end;width: 50%;}#sk-container-id-8 div.sk-parallel-item:last-child::after {align-self: flex-start;width: 50%;}#sk-container-id-8 div.sk-parallel-item:only-child::after {width: 0;}#sk-container-id-8 div.sk-dashed-wrapped {border: 1px dashed gray;margin: 0 0.4em 0.5em 0.4em;box-sizing: border-box;padding-bottom: 0.4em;background-color: white;}#sk-container-id-8 div.sk-label label {font-family: monospace;font-weight: bold;display: inline-block;line-height: 1.2em;}#sk-container-id-8 div.sk-label-container {text-align: center;}#sk-container-id-8 div.sk-container {/* jupyter's `normalize.less` sets `[hidden] { display: none; }` but bootstrap.min.css set `[hidden] { display: none !important; }` so we also need the `!important` here to be able to override the default hidden behavior on the sphinx rendered scikit-learn.org. See: https://github.com/scikit-learn/scikit-learn/issues/21755 */display: inline-block !important;position: relative;}#sk-container-id-8 div.sk-text-repr-fallback {display: none;}</style><div id=\"sk-container-id-8\" class=\"sk-top-container\"><div class=\"sk-text-repr-fallback\"><pre>RandomForestClassifier(random_state=42)</pre><b>In a Jupyter environment, please rerun this cell to show the HTML representation or trust the notebook. <br />On GitHub, the HTML representation is unable to render, please try loading this page with nbviewer.org.</b></div><div class=\"sk-container\" hidden><div class=\"sk-item\"><div class=\"sk-estimator sk-toggleable\"><input class=\"sk-toggleable__control sk-hidden--visually\" id=\"sk-estimator-id-12\" type=\"checkbox\" checked><label for=\"sk-estimator-id-12\" class=\"sk-toggleable__label sk-toggleable__label-arrow\">RandomForestClassifier</label><div class=\"sk-toggleable__content\"><pre>RandomForestClassifier(random_state=42)</pre></div></div></div></div></div>"
      ],
      "text/plain": [
       "RandomForestClassifier(random_state=42)"
      ]
     },
     "execution_count": 112,
     "metadata": {},
     "output_type": "execute_result"
    }
   ],
   "source": [
    "from sklearn.ensemble import RandomForestClassifier\n",
    "\n",
    "model = RandomForestClassifier(random_state=42)\n",
    "model.fit(X_train, y_train)\n"
   ]
  },
  {
   "cell_type": "markdown",
   "id": "3d9bde5a",
   "metadata": {},
   "source": [
    "#### Evaluate the Model\n",
    "\n",
    "After training, evaluate the model on the testing set to check its performance:"
   ]
  },
  {
   "cell_type": "code",
   "execution_count": 113,
   "id": "409cc106",
   "metadata": {},
   "outputs": [
    {
     "name": "stdout",
     "output_type": "stream",
     "text": [
      "Accuracy: 0.85\n",
      "                             precision    recall  f1-score   support\n",
      "\n",
      "                   Abnormal       0.00      0.00      0.00         2\n",
      "High Blood Pressure Stage 1       0.73      1.00      0.84         8\n",
      "High Blood Pressure Stage 2       1.00      0.90      0.95        10\n",
      "\n",
      "                   accuracy                           0.85        20\n",
      "                  macro avg       0.58      0.63      0.60        20\n",
      "               weighted avg       0.79      0.85      0.81        20\n",
      "\n"
     ]
    },
    {
     "name": "stderr",
     "output_type": "stream",
     "text": [
      "C:\\Users\\pc\\anaconda3\\Lib\\site-packages\\sklearn\\metrics\\_classification.py:1469: UndefinedMetricWarning: Precision and F-score are ill-defined and being set to 0.0 in labels with no predicted samples. Use `zero_division` parameter to control this behavior.\n",
      "  >>> y_true = [0, 1, 2, 0, 1, 2]\n",
      "C:\\Users\\pc\\anaconda3\\Lib\\site-packages\\sklearn\\metrics\\_classification.py:1469: UndefinedMetricWarning: Precision and F-score are ill-defined and being set to 0.0 in labels with no predicted samples. Use `zero_division` parameter to control this behavior.\n",
      "  >>> y_true = [0, 1, 2, 0, 1, 2]\n",
      "C:\\Users\\pc\\anaconda3\\Lib\\site-packages\\sklearn\\metrics\\_classification.py:1469: UndefinedMetricWarning: Precision and F-score are ill-defined and being set to 0.0 in labels with no predicted samples. Use `zero_division` parameter to control this behavior.\n",
      "  >>> y_true = [0, 1, 2, 0, 1, 2]\n"
     ]
    }
   ],
   "source": [
    "    from sklearn.metrics import classification_report, accuracy_score\n",
    "\n",
    "    y_pred = model.predict(X_test)\n",
    "\n",
    "    # Print evaluation metrics\n",
    "    print(f'Accuracy: {accuracy_score(y_test, y_pred)}')\n",
    "    print(classification_report(y_test, y_pred))\n"
   ]
  },
  {
   "cell_type": "markdown",
   "id": "402290be",
   "metadata": {},
   "source": [
    "## FINE TUNING the MODEL"
   ]
  },
  {
   "cell_type": "markdown",
   "id": "bdbda7e4",
   "metadata": {},
   "source": [
    "**What is Fine-Tuning?**\n",
    "Fine-tuning in machine learning involves optimizing the hyperparameters of the model to improve its performance. Hyperparameters are settings that can be adjusted before training the model, such as the number of trees in a Random Forest or the depth of those trees. Unlike model parameters (which are learned during training), hyperparameters need to be set beforehand.\n",
    "\n",
    "**Why Fine-Tune?**\n",
    "\n",
    "Fine-tuning can:\n",
    "\n",
    "-Improve model accuracy.\n",
    "\n",
    "-Reduce overfitting or underfitting.\n",
    "\n",
    "-Enhance generalization to new data."
   ]
  },
  {
   "cell_type": "markdown",
   "id": "ec77975d",
   "metadata": {},
   "source": [
    "#### Import Necessary Libraries"
   ]
  },
  {
   "cell_type": "code",
   "execution_count": 114,
   "id": "f891bf48",
   "metadata": {},
   "outputs": [],
   "source": [
    "# from sklearn.ensemble import RandomForestClassifier\n",
    "# from sklearn.model_selection import GridSearchCV, train_test_split\n",
    "# from sklearn.metrics import accuracy_score, classification_report\n"
   ]
  },
  {
   "cell_type": "markdown",
   "id": "91e89ae8",
   "metadata": {},
   "source": [
    "#### Setting up the data"
   ]
  },
  {
   "cell_type": "code",
   "execution_count": 115,
   "id": "49288c9f",
   "metadata": {},
   "outputs": [],
   "source": [
    "# X_train, X_test, y_train, y_test = train_test_split(X, y, test_size=0.2, random_state=42)"
   ]
  },
  {
   "cell_type": "markdown",
   "id": "d18ff55c",
   "metadata": {},
   "source": [
    "#### Define a Parameter Grid\n",
    "\n",
    "Define the hyperparameters  to tune. For Random Forest, some key hyperparameters include:\n",
    "\n",
    "***n_estimators***: Number of trees in the forest.\n",
    "\n",
    "***max_depth***: Maximum depth of each tree.\n",
    "\n",
    "***min_samples_split***: Minimum number of samples required to split an internal node.\n",
    "\n",
    "***min_samples_leaf***: Minimum number of samples required to be at a leaf node.\n",
    "\n",
    "***max_features***: Number of features to consider when looking for the best split."
   ]
  },
  {
   "cell_type": "code",
   "execution_count": 116,
   "id": "3d7634d3",
   "metadata": {},
   "outputs": [],
   "source": [
    "# param_grid = {\n",
    "#     'n_estimators': [100, 200, 300],\n",
    "#     'max_depth': [None, 10, 20, 30],\n",
    "#     'min_samples_split': [2, 5, 10],\n",
    "#     'min_samples_leaf': [1, 2, 4],\n",
    "#     'max_features': ['auto', 'sqrt', 'log2']\n",
    "# }\n",
    "\n",
    "# param_grid = {\n",
    "#     'n_estimators': [100, 200, 300],\n",
    "#     'max_depth': [None, 10, 20, 30],\n",
    "#     'min_samples_split': [2, 5, 10],\n",
    "#     'min_samples_leaf': [1, 2, 4],\n",
    "#     'max_features': ['sqrt', 'log2']  \n",
    "# }\n",
    "# param_grid = {\n",
    "#     'n_estimators': [100, 200],\n",
    "#     'max_depth': [10, 20],\n",
    "#     'min_samples_split': [2, 5]\n",
    "# }"
   ]
  },
  {
   "cell_type": "markdown",
   "id": "752e85d8",
   "metadata": {},
   "source": [
    "#### Performing Grid Search"
   ]
  },
  {
   "cell_type": "code",
   "execution_count": 117,
   "id": "b48c410b",
   "metadata": {},
   "outputs": [],
   "source": [
    "# grid_search = GridSearchCV(estimator=RandomForestClassifier(random_state=42),\n",
    "#                            param_grid=param_grid,\n",
    "#                            cv=5,  # 5-fold cross-validation\n",
    "#                            n_jobs=-1,  # Use all available cores\n",
    "#                            verbose=2)\n",
    "\n",
    "# # Fit the grid search to the data\n",
    "# grid_search.fit(X_train, y_train)\n",
    "# Initialize the grid search\n",
    "# grid_search = GridSearchCV(estimator=RandomForestClassifier(random_state=42),\n",
    "#                            param_grid=param_grid,\n",
    "#                            cv=5,\n",
    "#                            n_jobs=-1,\n",
    "#                            verbose=2)\n",
    "\n",
    "# # Fit the grid search\n",
    "# grid_search.fit(X_train, y_train)"
   ]
  },
  {
   "cell_type": "markdown",
   "id": "6dea2890",
   "metadata": {},
   "source": [
    "#### Evaluate the Best Model"
   ]
  },
  {
   "cell_type": "code",
   "execution_count": 118,
   "id": "81de7cf7",
   "metadata": {},
   "outputs": [],
   "source": [
    "# # Get the best parameters from the grid search\n",
    "# best_params = grid_search.best_params_\n",
    "# print(f\"Best parameters: {best_params}\")\n",
    "\n",
    "# # Train a new model with the best parameters\n",
    "# best_rf = RandomForestClassifier(**best_params, random_state=42)\n",
    "# best_rf.fit(X_train, y_train)\n",
    "\n",
    "# # Predict on the test set\n",
    "# y_pred = best_rf.predict(X_test)\n",
    "\n",
    "# # Evaluate the model\n",
    "# print(f'Accuracy: {accuracy_score(y_test, y_pred)}')\n",
    "# print(classification_report(y_test, y_pred))\n"
   ]
  },
  {
   "cell_type": "markdown",
   "id": "51ffd322",
   "metadata": {},
   "source": [
    "### Prediction Pipelining"
   ]
  },
  {
   "cell_type": "code",
   "execution_count": 120,
   "id": "02c9b4d4",
   "metadata": {},
   "outputs": [
    {
     "name": "stdout",
     "output_type": "stream",
     "text": [
      "Predicted Health Status: Abnormal\n"
     ]
    }
   ],
   "source": [
    "# Example input values\n",
    "systolic_bp = 200\n",
    "diastolic_bp = 80\n",
    "\n",
    "# Get prediction\n",
    "health_status = predict_health_status(systolic_bp, diastolic_bp)\n",
    "print(f\"Predicted Health Status: {health_status}\")\n"
   ]
  },
  {
   "cell_type": "code",
   "execution_count": 36,
   "id": "4f52758a",
   "metadata": {},
   "outputs": [],
   "source": [
    "# import pandas as pd\n",
    "# import ipywidgets as widgets\n",
    "# from IPython.display import display\n",
    "\n",
    "# # Assume 'best_rf' is your trained and fine-tuned model\n",
    "\n",
    "# def predict_health_status(systolic_bp, diastolic_bp):\n",
    "#     # Create a DataFrame for the input data\n",
    "#     input_data = pd.DataFrame({\n",
    "#         'Systolic_BP': [systolic_bp],\n",
    "#         'Diastolic_BP': [diastolic_bp],\n",
    "#         'Heart_Rate': [0],  # Placeholder value, adjust if necessary\n",
    "#         'Age': [0],         # Placeholder value, adjust if necessary\n",
    "#         'Physical_Activity': ['Low']  # Placeholder value, adjust if necessary\n",
    "#     })\n",
    "\n",
    "#     # Fill in or drop columns if necessary\n",
    "#     input_data.fillna(0, inplace=True)  # Adjust based on your model's requirements\n",
    "\n",
    "#     # Predict\n",
    "#     prediction = best_rf.predict(input_data)\n",
    "    \n",
    "#     # Map prediction to readable label\n",
    "#     health_status = {0: 'Normal', 1: 'Abnormal'}\n",
    "#     return health_status[prediction[0]]\n",
    "\n",
    "# # Define widgets\n",
    "# systolic_bp_widget = widgets.IntText(description=\"Systolic BP:\")\n",
    "# diastolic_bp_widget = widgets.IntText(description=\"Diastolic BP:\")\n",
    "\n",
    "# def on_button_click(b):\n",
    "#     systolic_bp = systolic_bp_widget.value\n",
    "#     diastolic_bp = diastolic_bp_widget.value\n",
    "#     status = predict_health_status(systolic_bp, diastolic_bp)\n",
    "#     print(f\"Health Status: {status}\")\n",
    "\n",
    "# # Button to trigger prediction\n",
    "# button = widgets.Button(description=\"Predict Health Status\")\n",
    "# button.on_click(on_button_click)\n",
    "\n",
    "# # Display widgets\n",
    "# display(systolic_bp_widget, diastolic_bp_widget, button)\n"
   ]
  },
  {
   "cell_type": "code",
   "execution_count": 38,
   "id": "eeeafe02",
   "metadata": {},
   "outputs": [],
   "source": [
    "# import pandas as pd\n",
    "# from sklearn.preprocessing import OneHotEncoder\n",
    "# from sklearn.ensemble import RandomForestClassifier\n",
    "\n",
    "# # Example encoder and model if they're not already defined\n",
    "# # encoder = OneHotEncoder(sparse=False)\n",
    "# # best_rf = RandomForestClassifier() \n",
    "\n",
    "# # Replace with your actual encoder and model\n",
    "# # Note: Ensure your encoder and model are trained and available in the same notebook.\n",
    "\n",
    "# def preprocess_input_data(input_data, encoder, feature_names):\n",
    "#     input_df = pd.DataFrame(input_data, columns=['Systolic_BP', 'Diastolic_BP', 'Heart_Rate', 'Age', 'Physical_Activity'])\n",
    "    \n",
    "#     # Encode categorical variables\n",
    "#     encoded_features = encoder.transform(input_df[['Physical_Activity']])\n",
    "#     encoded_df = pd.DataFrame(encoded_features, columns=encoder.get_feature_names_out(['Physical_Activity']))\n",
    "    \n",
    "#     # Drop the original categorical column and join the encoded columns\n",
    "#     input_df = input_df.drop(['Physical_Activity'], axis=1)\n",
    "#     input_df = input_df.join(encoded_df)\n",
    "    \n",
    "#     # Ensure consistent feature columns\n",
    "#     for col in feature_names:\n",
    "#         if col not in input_df.columns:\n",
    "#             input_df[col] = 0  # or some default value\n",
    "    \n",
    "#     input_df = input_df[feature_names]\n",
    "    \n",
    "#     return input_df\n",
    "\n",
    "# def predict_health_status(systolic_bp, diastolic_bp, heart_rate, age, physical_activity):\n",
    "#     input_data = {\n",
    "#         'Systolic_BP': [systolic_bp],\n",
    "#         'Diastolic_BP': [diastolic_bp],\n",
    "#         'Heart_Rate': [heart_rate],\n",
    "#         'Age': [age],\n",
    "#         'Physical_Activity': [physical_activity]\n",
    "#     }\n",
    "    \n",
    "#     # Ensure the feature names match those used during training\n",
    "#     feature_names = ['Systolic_BP', 'Diastolic_BP', 'Heart_Rate', 'Age'] + list(encoder.get_feature_names_out(['Physical_Activity']))\n",
    "    \n",
    "#     # Preprocess input data\n",
    "#     input_df = preprocess_input_data(input_data, encoder, feature_names)\n",
    "    \n",
    "#     # Predict\n",
    "#     prediction = best_rf.predict(input_df)\n",
    "    \n",
    "#     # Map prediction to readable label\n",
    "#     health_status = {0: 'Normal', 1: 'Abnormal'}\n",
    "#     return health_status[prediction[0]]\n",
    "\n",
    "# # Example usage\n",
    "# systolic_bp = int(input(\"Enter Systolic BP: \"))\n",
    "# diastolic_bp = int(input(\"Enter Diastolic BP: \"))\n",
    "# heart_rate = int(input(\"Enter Heart Rate: \"))\n",
    "# age = int(input(\"Enter Age: \"))\n",
    "# physical_activity = input(\"Enter Physical Activity (High/Medium): \")\n",
    "\n",
    "# status = predict_health_status(systolic_bp, diastolic_bp, heart_rate, age, physical_activity)\n",
    "# print(f\"Health Status: {status}\")\n"
   ]
  },
  {
   "cell_type": "code",
   "execution_count": 48,
   "id": "b36baa5d",
   "metadata": {},
   "outputs": [],
   "source": [
    "# import pandas as pd\n",
    "# from sklearn.ensemble import RandomForestClassifier\n",
    "\n",
    "# # Define your prediction function\n",
    "# def predict_health_status(systolic_bp, diastolic_bp):\n",
    "#     # Create a DataFrame for the input data with all required features\n",
    "#     input_data = pd.DataFrame({\n",
    "#         'Systolic_BP': [systolic_bp],\n",
    "#         'Diastolic_BP': [diastolic_bp],\n",
    "#         'Heart_Rate': [0],  # Set default or placeholder values\n",
    "#         'Physical_Activity_Low': [0],\n",
    "#         'Physical_Activity_Medium': [0],\n",
    "#         'index': [0]\n",
    "#     })\n",
    "    \n",
    "#     # Make the prediction\n",
    "#     prediction = best_rf.predict(input_data)\n",
    "    \n",
    "#     # Map the prediction to the health status\n",
    "#     return 'Normal' if prediction[0] == 'Normal' else 'Abnormal'\n",
    "\n",
    "# # Example usage\n",
    "# systolic_bp = float(input(\"Enter Systolic BP: \"))\n",
    "# diastolic_bp = float(input(\"Enter Diastolic BP: \"))\n",
    "\n",
    "# health_status = predict_health_status(systolic_bp, diastolic_bp)\n",
    "# print(f\"Predicted Health Status: {health_status}\")\n"
   ]
  },
  {
   "cell_type": "code",
   "execution_count": 88,
   "id": "a148b590",
   "metadata": {},
   "outputs": [
    {
     "name": "stdout",
     "output_type": "stream",
     "text": [
      "Index(['index', 'Systolic_BP', 'Diastolic_BP', 'Heart_Rate',\n",
      "       'Physical_Activity_Low', 'Physical_Activity_Medium'],\n",
      "      dtype='object')\n"
     ]
    }
   ],
   "source": [
    "print(X.columns)\n"
   ]
  },
  {
   "cell_type": "code",
   "execution_count": 121,
   "id": "f1bfdca8",
   "metadata": {},
   "outputs": [],
   "source": [
    "# import pandas as pd\n",
    "# from sklearn.ensemble import RandomForestClassifier\n",
    "\n",
    "# # Define your prediction function with the correct feature columns\n",
    "# def predict_health_status(systolic_bp, diastolic_bp):\n",
    "#     # Create a DataFrame with all required features and their default values\n",
    "#     input_data = pd.DataFrame({\n",
    "#         'index': [0],  # Placeholder for 'index'\n",
    "#         'Systolic_BP': [systolic_bp],\n",
    "#         'Diastolic_BP': [diastolic_bp],\n",
    "#         'Heart_Rate': [0],  # Placeholder for 'Heart_Rate'\n",
    "#         'Physical_Activity_Low': [0],  # Placeholder for 'Physical_Activity_Low'\n",
    "#         'Physical_Activity_Medium': [0]  # Placeholder for 'Physical_Activity_Medium'\n",
    "#     })\n",
    "    \n",
    "#     # Make the prediction\n",
    "#     prediction = best_rf.predict(input_data)\n",
    "    \n",
    "#     # Map the prediction to the health status\n",
    "#     return 'Normal' if prediction[0] == 'Normal' else 'Abnormal'\n",
    "\n",
    "# # Example usage\n",
    "# systolic_bp = float(input(\"Enter Systolic BP: \"))\n",
    "# diastolic_bp = float(input(\"Enter Diastolic BP: \"))\n",
    "\n",
    "# health_status = predict_health_status(systolic_bp, diastolic_bp)\n",
    "# print(f\"Predicted Health Status: {health_status}\")\n"
   ]
  },
  {
   "cell_type": "code",
   "execution_count": 90,
   "id": "787a91a2",
   "metadata": {},
   "outputs": [
    {
     "name": "stdout",
     "output_type": "stream",
     "text": [
      "Health_Status\n",
      "High Blood Pressure Stage 1    62\n",
      "High Blood Pressure Stage 2    25\n",
      "Normal                         10\n",
      "Elevated                        3\n",
      "Name: count, dtype: int64\n"
     ]
    }
   ],
   "source": [
    "# Inspect the distribution of your target labels\n",
    "print(df_encoded['Health_Status'].value_counts())\n"
   ]
  },
  {
   "cell_type": "code",
   "execution_count": 92,
   "id": "2550ac5d",
   "metadata": {},
   "outputs": [
    {
     "name": "stdout",
     "output_type": "stream",
     "text": [
      "                    Feature  Importance\n",
      "2              Diastolic_BP    0.384787\n",
      "1               Systolic_BP    0.343880\n",
      "0                     index    0.136969\n",
      "3                Heart_Rate    0.113735\n",
      "4     Physical_Activity_Low    0.010631\n",
      "5  Physical_Activity_Medium    0.009998\n",
      "Abnormal\n"
     ]
    }
   ],
   "source": [
    "# Display the importance of each feature\n",
    "importances = best_rf.feature_importances_\n",
    "feature_names = X.columns\n",
    "\n",
    "# Create a DataFrame for feature importance\n",
    "importance_df = pd.DataFrame({\n",
    "    'Feature': feature_names,\n",
    "    'Importance': importances\n",
    "}).sort_values(by='Importance', ascending=False)\n",
    "\n",
    "print(importance_df)\n",
    "\n",
    "# Test the prediction function with different values\n",
    "print(predict_health_status(120, 80))  # Test with your input\n"
   ]
  },
  {
   "cell_type": "code",
   "execution_count": 93,
   "id": "854972ad",
   "metadata": {},
   "outputs": [],
   "source": [
    "# pip install --upgrade scikit-learn imbalanced-learn\n"
   ]
  },
  {
   "cell_type": "code",
   "execution_count": 122,
   "id": "6075f5cc",
   "metadata": {},
   "outputs": [],
   "source": [
    "# import numpy as np\n",
    "# import pandas as pd\n",
    "# from sklearn.utils import resample\n",
    "\n",
    "# # Convert y_train to a NumPy array\n",
    "# y_train_array = y_train.to_numpy()\n",
    "\n",
    "# # Combine the training data\n",
    "# X_train_combined = np.concatenate([X_train, y_train_array.reshape(-1, 1)], axis=1)\n",
    "\n",
    "# # Separate majority and minority classes\n",
    "# majority_class = X_train_combined[X_train_combined[:, -1] == 'Abnormal']\n",
    "# minority_class = X_train_combined[X_train_combined[:, -1] == 'Normal']\n",
    "\n",
    "# # Upsample minority class\n",
    "# minority_upsampled = resample(minority_class,\n",
    "#                               replace=True,\n",
    "#                               n_samples=len(majority_class),\n",
    "#                               random_state=42)\n",
    "\n",
    "# # Combine majority class with upsampled minority class\n",
    "# X_train_balanced = np.vstack([majority_class, minority_upsampled])\n",
    "# y_train_balanced = X_train_balanced[:, -1]\n",
    "# X_train_balanced = X_train_balanced[:, :-1]\n",
    "\n",
    "# # Convert back to DataFrame if necessary\n",
    "# X_train_balanced = pd.DataFrame(X_train_balanced, columns=X.columns)\n",
    "# y_train_balanced = pd.Series(y_train_balanced)\n",
    "\n",
    "# # Train model on balanced data\n",
    "# model = RandomForestClassifier(random_state=42)\n",
    "# model.fit(X_train_balanced, y_train_balanced)\n"
   ]
  },
  {
   "cell_type": "code",
   "execution_count": 123,
   "id": "2730723a",
   "metadata": {},
   "outputs": [],
   "source": [
    "# from sklearn.metrics import classification_report, accuracy_score\n",
    "\n",
    "# # Predict on the test set\n",
    "# y_pred = model.predict(X_test)\n",
    "\n",
    "# # Evaluate the model\n",
    "# print(f'Accuracy: {accuracy_score(y_test, y_pred)}')\n",
    "# print(classification_report(y_test, y_pred))\n"
   ]
  },
  {
   "cell_type": "code",
   "execution_count": 124,
   "id": "d5c776d0",
   "metadata": {},
   "outputs": [],
   "source": [
    "# def predict_health_status(systolic_bp, diastolic_bp):\n",
    "#     # Create a DataFrame with input data\n",
    "#     input_data = pd.DataFrame({\n",
    "#         'Systolic_BP': [systolic_bp],\n",
    "#         'Diastolic_BP': [diastolic_bp],\n",
    "#         'Heart_Rate': [0],  # Placeholder value if not used\n",
    "#         'Physical_Activity_Low': [0],  # Placeholder value if not used\n",
    "#         'Physical_Activity_Medium': [0]  # Placeholder value if not used\n",
    "#     }, columns=X.columns)  # Ensure the columns match the training data\n",
    "\n",
    "#     # Check for missing values and fill them\n",
    "#     input_data = input_data.fillna(0)  # Fill NaN with 0 or use another appropriate value\n",
    "\n",
    "#     # Make the prediction\n",
    "#     prediction = model.predict(input_data)\n",
    "\n",
    "#     # Map the prediction to the health status\n",
    "#     return 'Normal' if prediction[0] == 'Normal' else 'Abnormal'\n"
   ]
  },
  {
   "cell_type": "markdown",
   "id": "8b246fd2",
   "metadata": {},
   "source": [
    "#### Check Model Training Data and Labels\n",
    "To ensure your training data is well-balanced and accurately labeled, follow these steps:"
   ]
  },
  {
   "cell_type": "code",
   "execution_count": 126,
   "id": "8638bc78",
   "metadata": {},
   "outputs": [],
   "source": [
    "# # inspect distribution of labels\n",
    "# import pandas as pd\n",
    "\n",
    "# # Assuming you have your training data in a DataFrame 'train_data'\n",
    "# # and labels in 'y_train'\n",
    "\n",
    "# # Check the distribution of labels\n",
    "# label_counts = y_train.value_counts()\n",
    "# print(\"Label Distribution:\\n\", label_counts)\n",
    "\n",
    "# # Plot the distribution if needed\n",
    "# import matplotlib.pyplot as plt\n",
    "\n",
    "# label_counts.plot(kind='bar')\n",
    "# plt.title('Distribution of Labels')\n",
    "# plt.xlabel('Health Status')\n",
    "# plt.ylabel('Count')\n",
    "# plt.show()\n"
   ]
  },
  {
   "cell_type": "code",
   "execution_count": 127,
   "id": "c7964583",
   "metadata": {},
   "outputs": [],
   "source": [
    "# # checking for imbalance\n",
    "# from imblearn.over_sampling import SMOTE\n",
    "\n",
    "# # Create the SMOTE object\n",
    "# smote = SMOTE(random_state=42)\n",
    "\n",
    "# # Fit SMOTE on the training data\n",
    "# X_resampled, y_resampled = smote.fit_resample(X_train, y_train)\n",
    "\n",
    "# # Check the new distribution\n",
    "# resampled_label_counts = pd.Series(y_resampled).value_counts()\n",
    "# print(\"Resampled Label Distribution:\\n\", resampled_label_counts)\n"
   ]
  },
  {
   "cell_type": "code",
   "execution_count": 128,
   "id": "dedcfae1",
   "metadata": {},
   "outputs": [],
   "source": [
    "def predict_health_status(systolic, diastolic):\n",
    "    prediction_prob = model.predict_proba([[systolic, diastolic]])\n",
    "    print(f\"Prediction probabilities: {prediction_prob}\")\n",
    "    predicted_class = model.predict([[systolic, diastolic]])[0]\n",
    "    return 'Normal' if predicted_class == 0 else 'Abnormal'\n"
   ]
  },
  {
   "cell_type": "code",
   "execution_count": 129,
   "id": "c65f35fa",
   "metadata": {},
   "outputs": [
    {
     "name": "stdout",
     "output_type": "stream",
     "text": [
      "                             precision    recall  f1-score   support\n",
      "\n",
      "                   Abnormal       0.00      0.00      0.00         2\n",
      "High Blood Pressure Stage 1       0.73      1.00      0.84         8\n",
      "High Blood Pressure Stage 2       1.00      0.90      0.95        10\n",
      "\n",
      "                   accuracy                           0.85        20\n",
      "                  macro avg       0.58      0.63      0.60        20\n",
      "               weighted avg       0.79      0.85      0.81        20\n",
      "\n"
     ]
    },
    {
     "name": "stderr",
     "output_type": "stream",
     "text": [
      "C:\\Users\\pc\\anaconda3\\Lib\\site-packages\\sklearn\\metrics\\_classification.py:1469: UndefinedMetricWarning: Precision and F-score are ill-defined and being set to 0.0 in labels with no predicted samples. Use `zero_division` parameter to control this behavior.\n",
      "  >>> y_true = [0, 1, 2, 0, 1, 2]\n",
      "C:\\Users\\pc\\anaconda3\\Lib\\site-packages\\sklearn\\metrics\\_classification.py:1469: UndefinedMetricWarning: Precision and F-score are ill-defined and being set to 0.0 in labels with no predicted samples. Use `zero_division` parameter to control this behavior.\n",
      "  >>> y_true = [0, 1, 2, 0, 1, 2]\n",
      "C:\\Users\\pc\\anaconda3\\Lib\\site-packages\\sklearn\\metrics\\_classification.py:1469: UndefinedMetricWarning: Precision and F-score are ill-defined and being set to 0.0 in labels with no predicted samples. Use `zero_division` parameter to control this behavior.\n",
      "  >>> y_true = [0, 1, 2, 0, 1, 2]\n"
     ]
    }
   ],
   "source": [
    "from sklearn.metrics import classification_report\n",
    "\n",
    "y_pred = model.predict(X_test)\n",
    "print(classification_report(y_test, y_pred))\n"
   ]
  },
  {
   "cell_type": "code",
   "execution_count": 132,
   "id": "02c53820",
   "metadata": {},
   "outputs": [],
   "source": [
    "# from sklearn.metrics import roc_curve\n",
    "\n",
    "# y_probs = model.predict_proba(X_test)[:, 1]\n",
    "# fpr, tpr, thresholds = roc_curve(y_test, y_probs)\n"
   ]
  },
  {
   "cell_type": "code",
   "execution_count": 131,
   "id": "4514e693",
   "metadata": {},
   "outputs": [
    {
     "name": "stdout",
     "output_type": "stream",
     "text": [
      "Confusion Matrix:\n",
      " [[0 2 0]\n",
      " [0 8 0]\n",
      " [0 1 9]]\n",
      "                             precision    recall  f1-score   support\n",
      "\n",
      "                   Abnormal       0.00      0.00      0.00         2\n",
      "High Blood Pressure Stage 1       0.73      1.00      0.84         8\n",
      "High Blood Pressure Stage 2       1.00      0.90      0.95        10\n",
      "\n",
      "                   accuracy                           0.85        20\n",
      "                  macro avg       0.58      0.63      0.60        20\n",
      "               weighted avg       0.79      0.85      0.81        20\n",
      "\n"
     ]
    },
    {
     "name": "stderr",
     "output_type": "stream",
     "text": [
      "C:\\Users\\pc\\anaconda3\\Lib\\site-packages\\sklearn\\metrics\\_classification.py:1469: UndefinedMetricWarning: Precision and F-score are ill-defined and being set to 0.0 in labels with no predicted samples. Use `zero_division` parameter to control this behavior.\n",
      "  >>> y_true = [0, 1, 2, 0, 1, 2]\n",
      "C:\\Users\\pc\\anaconda3\\Lib\\site-packages\\sklearn\\metrics\\_classification.py:1469: UndefinedMetricWarning: Precision and F-score are ill-defined and being set to 0.0 in labels with no predicted samples. Use `zero_division` parameter to control this behavior.\n",
      "  >>> y_true = [0, 1, 2, 0, 1, 2]\n",
      "C:\\Users\\pc\\anaconda3\\Lib\\site-packages\\sklearn\\metrics\\_classification.py:1469: UndefinedMetricWarning: Precision and F-score are ill-defined and being set to 0.0 in labels with no predicted samples. Use `zero_division` parameter to control this behavior.\n",
      "  >>> y_true = [0, 1, 2, 0, 1, 2]\n"
     ]
    }
   ],
   "source": [
    "from sklearn.metrics import confusion_matrix, classification_report\n",
    "\n",
    "# Confusion matrix\n",
    "conf_matrix = confusion_matrix(y_test, y_pred)\n",
    "print(\"Confusion Matrix:\\n\", conf_matrix)\n",
    "\n",
    "# Classification report\n",
    "print(classification_report(y_test, y_pred))\n"
   ]
  },
  {
   "cell_type": "code",
   "execution_count": 133,
   "id": "44734d60",
   "metadata": {},
   "outputs": [
    {
     "ename": "ImportError",
     "evalue": "cannot import name '_check_X' from 'imblearn.utils._validation' (C:\\Users\\pc\\anaconda3\\Lib\\site-packages\\imblearn\\utils\\_validation.py)",
     "output_type": "error",
     "traceback": [
      "\u001b[1;31m---------------------------------------------------------------------------\u001b[0m",
      "\u001b[1;31mImportError\u001b[0m                               Traceback (most recent call last)",
      "Cell \u001b[1;32mIn[133], line 1\u001b[0m\n\u001b[1;32m----> 1\u001b[0m \u001b[38;5;28;01mfrom\u001b[39;00m \u001b[38;5;21;01mimblearn\u001b[39;00m\u001b[38;5;21;01m.\u001b[39;00m\u001b[38;5;21;01mover_sampling\u001b[39;00m \u001b[38;5;28;01mimport\u001b[39;00m SMOTE\n\u001b[0;32m      2\u001b[0m \u001b[38;5;28;01mfrom\u001b[39;00m \u001b[38;5;21;01msklearn\u001b[39;00m\u001b[38;5;21;01m.\u001b[39;00m\u001b[38;5;21;01mmodel_selection\u001b[39;00m \u001b[38;5;28;01mimport\u001b[39;00m train_test_split\n\u001b[0;32m      4\u001b[0m \u001b[38;5;66;03m# Assuming X and y are your features and target variables\u001b[39;00m\n",
      "File \u001b[1;32m~\\anaconda3\\Lib\\site-packages\\imblearn\\__init__.py:52\u001b[0m\n\u001b[0;32m     48\u001b[0m     sys\u001b[38;5;241m.\u001b[39mstderr\u001b[38;5;241m.\u001b[39mwrite(\u001b[38;5;124m\"\u001b[39m\u001b[38;5;124mPartial import of imblearn during the build process.\u001b[39m\u001b[38;5;130;01m\\n\u001b[39;00m\u001b[38;5;124m\"\u001b[39m)\n\u001b[0;32m     49\u001b[0m     \u001b[38;5;66;03m# We are not importing the rest of scikit-learn during the build\u001b[39;00m\n\u001b[0;32m     50\u001b[0m     \u001b[38;5;66;03m# process, as it may not be compiled yet\u001b[39;00m\n\u001b[0;32m     51\u001b[0m \u001b[38;5;28;01melse\u001b[39;00m:\n\u001b[1;32m---> 52\u001b[0m     \u001b[38;5;28;01mfrom\u001b[39;00m \u001b[38;5;21;01m.\u001b[39;00m \u001b[38;5;28;01mimport\u001b[39;00m (\n\u001b[0;32m     53\u001b[0m         combine,\n\u001b[0;32m     54\u001b[0m         ensemble,\n\u001b[0;32m     55\u001b[0m         exceptions,\n\u001b[0;32m     56\u001b[0m         metrics,\n\u001b[0;32m     57\u001b[0m         over_sampling,\n\u001b[0;32m     58\u001b[0m         pipeline,\n\u001b[0;32m     59\u001b[0m         tensorflow,\n\u001b[0;32m     60\u001b[0m         under_sampling,\n\u001b[0;32m     61\u001b[0m         utils,\n\u001b[0;32m     62\u001b[0m     )\n\u001b[0;32m     63\u001b[0m     \u001b[38;5;28;01mfrom\u001b[39;00m \u001b[38;5;21;01m.\u001b[39;00m\u001b[38;5;21;01m_version\u001b[39;00m \u001b[38;5;28;01mimport\u001b[39;00m __version__\n\u001b[0;32m     64\u001b[0m     \u001b[38;5;28;01mfrom\u001b[39;00m \u001b[38;5;21;01m.\u001b[39;00m\u001b[38;5;21;01mbase\u001b[39;00m \u001b[38;5;28;01mimport\u001b[39;00m FunctionSampler\n",
      "File \u001b[1;32m~\\anaconda3\\Lib\\site-packages\\imblearn\\combine\\__init__.py:5\u001b[0m\n\u001b[0;32m      1\u001b[0m \u001b[38;5;124;03m\"\"\"The :mod:`imblearn.combine` provides methods which combine\u001b[39;00m\n\u001b[0;32m      2\u001b[0m \u001b[38;5;124;03mover-sampling and under-sampling.\u001b[39;00m\n\u001b[0;32m      3\u001b[0m \u001b[38;5;124;03m\"\"\"\u001b[39;00m\n\u001b[1;32m----> 5\u001b[0m \u001b[38;5;28;01mfrom\u001b[39;00m \u001b[38;5;21;01m.\u001b[39;00m\u001b[38;5;21;01m_smote_enn\u001b[39;00m \u001b[38;5;28;01mimport\u001b[39;00m SMOTEENN\n\u001b[0;32m      6\u001b[0m \u001b[38;5;28;01mfrom\u001b[39;00m \u001b[38;5;21;01m.\u001b[39;00m\u001b[38;5;21;01m_smote_tomek\u001b[39;00m \u001b[38;5;28;01mimport\u001b[39;00m SMOTETomek\n\u001b[0;32m      8\u001b[0m __all__ \u001b[38;5;241m=\u001b[39m [\u001b[38;5;124m\"\u001b[39m\u001b[38;5;124mSMOTEENN\u001b[39m\u001b[38;5;124m\"\u001b[39m, \u001b[38;5;124m\"\u001b[39m\u001b[38;5;124mSMOTETomek\u001b[39m\u001b[38;5;124m\"\u001b[39m]\n",
      "File \u001b[1;32m~\\anaconda3\\Lib\\site-packages\\imblearn\\combine\\_smote_enn.py:13\u001b[0m\n\u001b[0;32m     10\u001b[0m \u001b[38;5;28;01mfrom\u001b[39;00m \u001b[38;5;21;01msklearn\u001b[39;00m\u001b[38;5;21;01m.\u001b[39;00m\u001b[38;5;21;01mutils\u001b[39;00m \u001b[38;5;28;01mimport\u001b[39;00m check_X_y\n\u001b[0;32m     12\u001b[0m \u001b[38;5;28;01mfrom\u001b[39;00m \u001b[38;5;21;01m.\u001b[39;00m\u001b[38;5;21;01m.\u001b[39;00m\u001b[38;5;21;01mbase\u001b[39;00m \u001b[38;5;28;01mimport\u001b[39;00m BaseSampler\n\u001b[1;32m---> 13\u001b[0m \u001b[38;5;28;01mfrom\u001b[39;00m \u001b[38;5;21;01m.\u001b[39;00m\u001b[38;5;21;01m.\u001b[39;00m\u001b[38;5;21;01mover_sampling\u001b[39;00m \u001b[38;5;28;01mimport\u001b[39;00m SMOTE\n\u001b[0;32m     14\u001b[0m \u001b[38;5;28;01mfrom\u001b[39;00m \u001b[38;5;21;01m.\u001b[39;00m\u001b[38;5;21;01m.\u001b[39;00m\u001b[38;5;21;01mover_sampling\u001b[39;00m\u001b[38;5;21;01m.\u001b[39;00m\u001b[38;5;21;01mbase\u001b[39;00m \u001b[38;5;28;01mimport\u001b[39;00m BaseOverSampler\n\u001b[0;32m     15\u001b[0m \u001b[38;5;28;01mfrom\u001b[39;00m \u001b[38;5;21;01m.\u001b[39;00m\u001b[38;5;21;01m.\u001b[39;00m\u001b[38;5;21;01munder_sampling\u001b[39;00m \u001b[38;5;28;01mimport\u001b[39;00m EditedNearestNeighbours\n",
      "File \u001b[1;32m~\\anaconda3\\Lib\\site-packages\\imblearn\\over_sampling\\__init__.py:7\u001b[0m\n\u001b[0;32m      1\u001b[0m \u001b[38;5;124;03m\"\"\"\u001b[39;00m\n\u001b[0;32m      2\u001b[0m \u001b[38;5;124;03mThe :mod:`imblearn.over_sampling` provides a set of method to\u001b[39;00m\n\u001b[0;32m      3\u001b[0m \u001b[38;5;124;03mperform over-sampling.\u001b[39;00m\n\u001b[0;32m      4\u001b[0m \u001b[38;5;124;03m\"\"\"\u001b[39;00m\n\u001b[0;32m      6\u001b[0m \u001b[38;5;28;01mfrom\u001b[39;00m \u001b[38;5;21;01m.\u001b[39;00m\u001b[38;5;21;01m_adasyn\u001b[39;00m \u001b[38;5;28;01mimport\u001b[39;00m ADASYN\n\u001b[1;32m----> 7\u001b[0m \u001b[38;5;28;01mfrom\u001b[39;00m \u001b[38;5;21;01m.\u001b[39;00m\u001b[38;5;21;01m_random_over_sampler\u001b[39;00m \u001b[38;5;28;01mimport\u001b[39;00m RandomOverSampler\n\u001b[0;32m      8\u001b[0m \u001b[38;5;28;01mfrom\u001b[39;00m \u001b[38;5;21;01m.\u001b[39;00m\u001b[38;5;21;01m_smote\u001b[39;00m \u001b[38;5;28;01mimport\u001b[39;00m SMOTE, SMOTEN, SMOTENC, SVMSMOTE, BorderlineSMOTE, KMeansSMOTE\n\u001b[0;32m     10\u001b[0m __all__ \u001b[38;5;241m=\u001b[39m [\n\u001b[0;32m     11\u001b[0m     \u001b[38;5;124m\"\u001b[39m\u001b[38;5;124mADASYN\u001b[39m\u001b[38;5;124m\"\u001b[39m,\n\u001b[0;32m     12\u001b[0m     \u001b[38;5;124m\"\u001b[39m\u001b[38;5;124mRandomOverSampler\u001b[39m\u001b[38;5;124m\"\u001b[39m,\n\u001b[1;32m   (...)\u001b[0m\n\u001b[0;32m     18\u001b[0m     \u001b[38;5;124m\"\u001b[39m\u001b[38;5;124mSMOTEN\u001b[39m\u001b[38;5;124m\"\u001b[39m,\n\u001b[0;32m     19\u001b[0m ]\n",
      "File \u001b[1;32m~\\anaconda3\\Lib\\site-packages\\imblearn\\over_sampling\\_random_over_sampler.py:18\u001b[0m\n\u001b[0;32m     16\u001b[0m \u001b[38;5;28;01mfrom\u001b[39;00m \u001b[38;5;21;01m.\u001b[39;00m\u001b[38;5;21;01m.\u001b[39;00m\u001b[38;5;21;01mutils\u001b[39;00m\u001b[38;5;21;01m.\u001b[39;00m\u001b[38;5;21;01m_docstring\u001b[39;00m \u001b[38;5;28;01mimport\u001b[39;00m _random_state_docstring\n\u001b[0;32m     17\u001b[0m \u001b[38;5;28;01mfrom\u001b[39;00m \u001b[38;5;21;01m.\u001b[39;00m\u001b[38;5;21;01m.\u001b[39;00m\u001b[38;5;21;01mutils\u001b[39;00m\u001b[38;5;21;01m.\u001b[39;00m\u001b[38;5;21;01m_param_validation\u001b[39;00m \u001b[38;5;28;01mimport\u001b[39;00m Interval\n\u001b[1;32m---> 18\u001b[0m \u001b[38;5;28;01mfrom\u001b[39;00m \u001b[38;5;21;01m.\u001b[39;00m\u001b[38;5;21;01m.\u001b[39;00m\u001b[38;5;21;01mutils\u001b[39;00m\u001b[38;5;21;01m.\u001b[39;00m\u001b[38;5;21;01m_validation\u001b[39;00m \u001b[38;5;28;01mimport\u001b[39;00m _check_X\n\u001b[0;32m     19\u001b[0m \u001b[38;5;28;01mfrom\u001b[39;00m \u001b[38;5;21;01m.\u001b[39;00m\u001b[38;5;21;01mbase\u001b[39;00m \u001b[38;5;28;01mimport\u001b[39;00m BaseOverSampler\n\u001b[0;32m     22\u001b[0m \u001b[38;5;129m@Substitution\u001b[39m(\n\u001b[0;32m     23\u001b[0m     sampling_strategy\u001b[38;5;241m=\u001b[39mBaseOverSampler\u001b[38;5;241m.\u001b[39m_sampling_strategy_docstring,\n\u001b[0;32m     24\u001b[0m     random_state\u001b[38;5;241m=\u001b[39m_random_state_docstring,\n\u001b[0;32m     25\u001b[0m )\n\u001b[0;32m     26\u001b[0m \u001b[38;5;28;01mclass\u001b[39;00m \u001b[38;5;21;01mRandomOverSampler\u001b[39;00m(BaseOverSampler):\n",
      "\u001b[1;31mImportError\u001b[0m: cannot import name '_check_X' from 'imblearn.utils._validation' (C:\\Users\\pc\\anaconda3\\Lib\\site-packages\\imblearn\\utils\\_validation.py)"
     ]
    }
   ],
   "source": [
    "from imblearn.over_sampling import SMOTE\n",
    "from sklearn.model_selection import train_test_split\n",
    "\n",
    "# Assuming X and y are your features and target variables\n",
    "X_train, X_test, y_train, y_test = train_test_split(X, y, test_size=0.2, random_state=42)\n",
    "\n",
    "# Apply SMOTE to balance the classes\n",
    "smote = SMOTE()\n",
    "X_resampled, y_resampled = smote.fit_resample(X_train, y_train)\n",
    "\n",
    "# Train your model on the resampled data\n",
    "model.fit(X_resampled, y_resampled)\n"
   ]
  },
  {
   "cell_type": "code",
   "execution_count": null,
   "id": "49696dad",
   "metadata": {},
   "outputs": [],
   "source": []
  }
 ],
 "metadata": {
  "kernelspec": {
   "display_name": "Python 3 (ipykernel)",
   "language": "python",
   "name": "python3"
  },
  "language_info": {
   "codemirror_mode": {
    "name": "ipython",
    "version": 3
   },
   "file_extension": ".py",
   "mimetype": "text/x-python",
   "name": "python",
   "nbconvert_exporter": "python",
   "pygments_lexer": "ipython3",
   "version": "3.11.5"
  }
 },
 "nbformat": 4,
 "nbformat_minor": 5
}
